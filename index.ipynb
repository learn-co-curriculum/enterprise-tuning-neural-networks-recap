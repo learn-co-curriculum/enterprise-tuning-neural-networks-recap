{
  "cells": [
    {
      "cell_type": "markdown",
      "metadata": {
        "id": "2NEhhn0Ytb6-"
      },
      "source": [
        "# Tuning Neural Networks - Recap\n",
        "\n",
        "## Key Takeaways\n",
        "\n",
        "The key takeaways from this section include:\n",
        "\n",
        "### Tuning Neural Networks\n",
        "\n",
        "* Validation and test sets are used when iteratively building deep neural networks\n",
        "* Like traditional machine learning models, we need to watch out for the bias variance trade-off when building deep learning models\n",
        "* Examples of alternatives for gradient descent are: RMSprop, Adam, Gradient Descent with Momentum, etc.\n",
        "* Hyperparameter tuning is of crucial importance when working with deep learning models, as setting the parameters right can lead to great improvements in model performance\n",
        "\n",
        "### Regularization\n",
        "\n",
        "* Several regularization techniques can help us limit overfitting: L1 Regularization, L2 Regularization, Dropout Regularization, etc.\n",
        "\n",
        "### Normalization\n",
        "\n",
        "* Training of deep neural networks can be sped up by using normalized inputs\n",
        "* Normalized inputs can also help mitigate a common issue of vanishing or exploding gradients\n",
        "\n",
        "### TensorBoard\n",
        "\n",
        "* We can use TensorBoard to help us with the evaluation of models\n",
        "* We can use TensorBoard to experiment with the neural networks\n",
        "\n"
      ]
    }
  ],
  "metadata": {
    "kernelspec": {
      "display_name": "Python (learn-env)",
      "language": "python",
      "name": "learn-env"
    },
    "language_info": {
      "codemirror_mode": {
        "name": "ipython",
        "version": 3
      },
      "file_extension": ".py",
      "mimetype": "text/x-python",
      "name": "python",
      "nbconvert_exporter": "python",
      "pygments_lexer": "ipython3",
      "version": "3.8.5"
    },
    "colab": {
      "provenance": [],
      "collapsed_sections": []
    }
  },
  "nbformat": 4,
  "nbformat_minor": 0
}